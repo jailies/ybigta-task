{
 "cells": [
  {
   "cell_type": "markdown",
   "id": "ed1697a2",
   "metadata": {},
   "source": [
    "# 1번 과제"
   ]
  },
  {
   "cell_type": "code",
   "execution_count": 61,
   "id": "cb4efed6",
   "metadata": {},
   "outputs": [
    {
     "name": "stderr",
     "output_type": "stream",
     "text": [
      "/var/folders/24/mkrjpzfs7hlgflml8nk23bc40000gn/T/ipykernel_1756/453540341.py:7: DeprecationWarning: executable_path has been deprecated, please pass in a Service object\n",
      "  driver = webdriver.Chrome(path)\n"
     ]
    }
   ],
   "source": [
    "from selenium.webdriver.common.keys import Keys\n",
    "from selenium import webdriver\n",
    "from bs4 import BeautifulSoup\n",
    "import time \n",
    "\n",
    "path = path = '/Users/jeonghwan/Desktop/YBIGTA/23-1/교육세션/0207 크롤링/chromedriver'\n",
    "driver = webdriver.Chrome(path)"
   ]
  },
  {
   "cell_type": "code",
   "execution_count": 62,
   "id": "945f6f75",
   "metadata": {},
   "outputs": [],
   "source": [
    "from selenium.webdriver.common.by import By\n",
    "from selenium.webdriver.common.keys import Keys"
   ]
  },
  {
   "cell_type": "code",
   "execution_count": 63,
   "id": "722a8bd9",
   "metadata": {},
   "outputs": [],
   "source": [
    "# 해당 URL로 이동\n",
    "driver.get('https://www.yonsei.ac.kr/sc/') \n",
    "\n",
    "# 웹 페이지 요소 로드를 기다림\n",
    "driver.implicitly_wait(5)"
   ]
  },
  {
   "cell_type": "code",
   "execution_count": 64,
   "id": "5e251659",
   "metadata": {},
   "outputs": [],
   "source": [
    "elem = driver.find_element(By.CSS_SELECTOR, '#header > div.toggle.toggleGnb > a > span')\n",
    "elem.click()"
   ]
  },
  {
   "cell_type": "code",
   "execution_count": 65,
   "id": "a03d3c73",
   "metadata": {},
   "outputs": [],
   "source": [
    "elem = driver.find_element(By.CSS_SELECTOR, '#mgnb > ul > li.m5 > a')\n",
    "elem.click()"
   ]
  },
  {
   "cell_type": "code",
   "execution_count": 66,
   "id": "ad230afe",
   "metadata": {},
   "outputs": [],
   "source": [
    "elem = driver.find_element(By.CSS_SELECTOR, '#mgnb > ul > li.m5.active > div > ul > li:nth-child(1) > a > span')\n",
    "elem.click()"
   ]
  },
  {
   "cell_type": "code",
   "execution_count": 67,
   "id": "bc96d3e2",
   "metadata": {},
   "outputs": [],
   "source": [
    "elem = driver.find_element(By.CSS_SELECTOR, '#mgnb > ul > li.m5.active > div > ul > li.hasChild.active > ul > li:nth-child(1) > a')\n",
    "elem.click()"
   ]
  },
  {
   "cell_type": "code",
   "execution_count": 68,
   "id": "6e00b5a2",
   "metadata": {},
   "outputs": [],
   "source": [
    "month_list = []\n",
    "elem = driver.find_element(By.CSS_SELECTOR, '#jwxe_main_content > div.jwxe_board > div > table > tbody > tr:nth-child(1) > th > span')\n",
    "month_list.append(elem.text)"
   ]
  },
  {
   "cell_type": "code",
   "execution_count": 69,
   "id": "d0916d0e",
   "metadata": {},
   "outputs": [
    {
     "name": "stdout",
     "output_type": "stream",
     "text": [
      "['02 FEB', '03 MAR']\n"
     ]
    }
   ],
   "source": [
    "elem = driver.find_element(By.CSS_SELECTOR, '#jwxe_main_content > div.jwxe_board > div > table > tbody > tr:nth-child(7) > th > span')\n",
    "month_list.append(elem.text)\n",
    "print(month_list)"
   ]
  },
  {
   "cell_type": "code",
   "execution_count": 70,
   "id": "f4d494a1",
   "metadata": {},
   "outputs": [
    {
     "name": "stdout",
     "output_type": "stream",
     "text": [
      "['1(수)', '13(월)~17(금)', '17(금)~23(목)', '22(수)', '26(일)', '27(월)', '1(수)', '2(목)', '6(월)~8(수)', '10(금)~13(월)', '13(월)~17(금)', '15(수)']\n"
     ]
    }
   ],
   "source": [
    "day_list = []\n",
    "for i in range(1,13):\n",
    "    elem = driver.find_element(By.XPATH, '//*[@id=\"jwxe_main_content\"]/div[2]/div/table/tbody/tr[{}]/td[1]'.format(i))\n",
    "    day_list.append(elem.text)\n",
    "print(day_list)"
   ]
  },
  {
   "cell_type": "code",
   "execution_count": 71,
   "id": "56a5122d",
   "metadata": {},
   "outputs": [
    {
     "name": "stdout",
     "output_type": "stream",
     "text": [
      "['휴 · 복학 접수 시작', '2023-1학기 수강신청', '2023-1학기 등록', '복학 접수 마감', '졸업예배', '학위수여식', '삼일절', '개강 / 교무위원회', '수강신청 확인 및 변경', '2023-1학기 추가등록', '조기졸업 신청', '미등록자 일반 휴학 접수 마감 / 등록금 전액반환 마감']\n"
     ]
    }
   ],
   "source": [
    "event_list = []\n",
    "for i in range(1,13):\n",
    "    elem = driver.find_element(By.XPATH, '//*[@id=\"jwxe_main_content\"]/div[2]/div/table/tbody/tr[{}]/td[2]/div'.format(i))\n",
    "    event_list.append(elem.text)\n",
    "print(event_list)"
   ]
  },
  {
   "cell_type": "code",
   "execution_count": 72,
   "id": "d5664b6e",
   "metadata": {
    "scrolled": true
   },
   "outputs": [
    {
     "name": "stdout",
     "output_type": "stream",
     "text": [
      "   월(Month)       일(Day)                    학사 일정(Event)\n",
      "0    02 FEB         1(수)                    휴 · 복학 접수 시작\n",
      "1    02 FEB  13(월)~17(금)                   2023-1학기 수강신청\n",
      "2    02 FEB  17(금)~23(목)                     2023-1학기 등록\n",
      "3    02 FEB        22(수)                        복학 접수 마감\n",
      "4    02 FEB        26(일)                            졸업예배\n",
      "5    02 FEB        27(월)                           학위수여식\n",
      "6    03 MAR         1(수)                             삼일절\n",
      "7    03 MAR         2(목)                      개강 / 교무위원회\n",
      "8    03 MAR    6(월)~8(수)                    수강신청 확인 및 변경\n",
      "9    03 MAR  10(금)~13(월)                   2023-1학기 추가등록\n",
      "10   03 MAR  13(월)~17(금)                         조기졸업 신청\n",
      "11   03 MAR        15(수)  미등록자 일반 휴학 접수 마감 / 등록금 전액반환 마감\n"
     ]
    }
   ],
   "source": [
    "import pandas as pd\n",
    "# Divide the days and events lists into two separate sublists\n",
    "first_month_days = day_list[0:6]\n",
    "first_month_events = event_list[0:6]\n",
    "\n",
    "second_month_days = day_list[6:]\n",
    "second_month_events = event_list[6:]\n",
    "\n",
    "# Combine each set of sublists into a single list of tuples\n",
    "first_month_data = list(zip([month_list[0]]*6, first_month_days, first_month_events))\n",
    "second_month_data = list(zip([month_list[1]]*6, second_month_days, second_month_events))\n",
    "\n",
    "# Create two separate DataFrames from the combined lists\n",
    "first_month_df = pd.DataFrame(first_month_data, columns=['월(Month)', '일(Day)', '학사 일정(Event)'])\n",
    "second_month_df = pd.DataFrame(second_month_data, columns=['월(Month)', '일(Day)', '학사 일정(Event)'])\n",
    "\n",
    "# Concatenate the two DataFrames into a single DataFrame\n",
    "df = pd.concat([first_month_df, second_month_df])\n",
    "\n",
    "df = df.reset_index(drop=True)\n",
    "\n",
    "# Print the DataFrame to verify that it was created correctly\n",
    "print(df)"
   ]
  },
  {
   "cell_type": "markdown",
   "id": "90843273",
   "metadata": {},
   "source": [
    "# 2번 과제"
   ]
  },
  {
   "cell_type": "code",
   "execution_count": 83,
   "id": "ff5c2905",
   "metadata": {},
   "outputs": [
    {
     "ename": "TypeError",
     "evalue": "expected string or bytes-like object",
     "output_type": "error",
     "traceback": [
      "\u001b[0;31m---------------------------------------------------------------------------\u001b[0m",
      "\u001b[0;31mTypeError\u001b[0m                                 Traceback (most recent call last)",
      "Input \u001b[0;32mIn [83]\u001b[0m, in \u001b[0;36m<cell line: 14>\u001b[0;34m()\u001b[0m\n\u001b[1;32m     11\u001b[0m \u001b[38;5;28;01mwith\u001b[39;00m \u001b[38;5;28mopen\u001b[39m(\u001b[38;5;124m\"\u001b[39m\u001b[38;5;124mimage.jpg\u001b[39m\u001b[38;5;124m\"\u001b[39m, \u001b[38;5;124m\"\u001b[39m\u001b[38;5;124mwb\u001b[39m\u001b[38;5;124m\"\u001b[39m) \u001b[38;5;28;01mas\u001b[39;00m f:\n\u001b[1;32m     12\u001b[0m     f\u001b[38;5;241m.\u001b[39mwrite(s)\n\u001b[0;32m---> 14\u001b[0m \u001b[43murllib\u001b[49m\u001b[38;5;241;43m.\u001b[39;49m\u001b[43mrequest\u001b[49m\u001b[38;5;241;43m.\u001b[39;49m\u001b[43murlretrieve\u001b[49m\u001b[43m(\u001b[49m\u001b[43murl\u001b[49m\u001b[43m,\u001b[49m\u001b[43m \u001b[49m\u001b[38;5;124;43m\"\u001b[39;49m\u001b[38;5;124;43mimage.jpg\u001b[39;49m\u001b[38;5;124;43m\"\u001b[39;49m\u001b[43m)\u001b[49m\n\u001b[1;32m     15\u001b[0m display(Image(\u001b[38;5;124m\"\u001b[39m\u001b[38;5;124mimage.jpg\u001b[39m\u001b[38;5;124m\"\u001b[39m))\n\u001b[1;32m     17\u001b[0m img \u001b[38;5;241m=\u001b[39m Image\u001b[38;5;241m.\u001b[39mopen(\u001b[38;5;124m\"\u001b[39m\u001b[38;5;124mimage.jpg\u001b[39m\u001b[38;5;124m\"\u001b[39m)\n",
      "File \u001b[0;32m/opt/homebrew/Cellar/python@3.9/3.9.12/Frameworks/Python.framework/Versions/3.9/lib/python3.9/urllib/request.py:237\u001b[0m, in \u001b[0;36murlretrieve\u001b[0;34m(url, filename, reporthook, data)\u001b[0m\n\u001b[1;32m    221\u001b[0m \u001b[38;5;28;01mdef\u001b[39;00m \u001b[38;5;21murlretrieve\u001b[39m(url, filename\u001b[38;5;241m=\u001b[39m\u001b[38;5;28;01mNone\u001b[39;00m, reporthook\u001b[38;5;241m=\u001b[39m\u001b[38;5;28;01mNone\u001b[39;00m, data\u001b[38;5;241m=\u001b[39m\u001b[38;5;28;01mNone\u001b[39;00m):\n\u001b[1;32m    222\u001b[0m     \u001b[38;5;124;03m\"\"\"\u001b[39;00m\n\u001b[1;32m    223\u001b[0m \u001b[38;5;124;03m    Retrieve a URL into a temporary location on disk.\u001b[39;00m\n\u001b[1;32m    224\u001b[0m \n\u001b[0;32m   (...)\u001b[0m\n\u001b[1;32m    235\u001b[0m \u001b[38;5;124;03m    data file as well as the resulting HTTPMessage object.\u001b[39;00m\n\u001b[1;32m    236\u001b[0m \u001b[38;5;124;03m    \"\"\"\u001b[39;00m\n\u001b[0;32m--> 237\u001b[0m     url_type, path \u001b[38;5;241m=\u001b[39m \u001b[43m_splittype\u001b[49m\u001b[43m(\u001b[49m\u001b[43murl\u001b[49m\u001b[43m)\u001b[49m\n\u001b[1;32m    239\u001b[0m     \u001b[38;5;28;01mwith\u001b[39;00m contextlib\u001b[38;5;241m.\u001b[39mclosing(urlopen(url, data)) \u001b[38;5;28;01mas\u001b[39;00m fp:\n\u001b[1;32m    240\u001b[0m         headers \u001b[38;5;241m=\u001b[39m fp\u001b[38;5;241m.\u001b[39minfo()\n",
      "File \u001b[0;32m/opt/homebrew/Cellar/python@3.9/3.9.12/Frameworks/Python.framework/Versions/3.9/lib/python3.9/urllib/parse.py:1040\u001b[0m, in \u001b[0;36m_splittype\u001b[0;34m(url)\u001b[0m\n\u001b[1;32m   1037\u001b[0m \u001b[38;5;28;01mif\u001b[39;00m _typeprog \u001b[38;5;129;01mis\u001b[39;00m \u001b[38;5;28;01mNone\u001b[39;00m:\n\u001b[1;32m   1038\u001b[0m     _typeprog \u001b[38;5;241m=\u001b[39m re\u001b[38;5;241m.\u001b[39mcompile(\u001b[38;5;124m'\u001b[39m\u001b[38;5;124m([^/:]+):(.*)\u001b[39m\u001b[38;5;124m'\u001b[39m, re\u001b[38;5;241m.\u001b[39mDOTALL)\n\u001b[0;32m-> 1040\u001b[0m match \u001b[38;5;241m=\u001b[39m \u001b[43m_typeprog\u001b[49m\u001b[38;5;241;43m.\u001b[39;49m\u001b[43mmatch\u001b[49m\u001b[43m(\u001b[49m\u001b[43murl\u001b[49m\u001b[43m)\u001b[49m\n\u001b[1;32m   1041\u001b[0m \u001b[38;5;28;01mif\u001b[39;00m match:\n\u001b[1;32m   1042\u001b[0m     scheme, data \u001b[38;5;241m=\u001b[39m match\u001b[38;5;241m.\u001b[39mgroups()\n",
      "\u001b[0;31mTypeError\u001b[0m: expected string or bytes-like object"
     ]
    }
   ],
   "source": [
    "import urllib.request\n",
    "from PIL import Image\n",
    "from IPython.display import display, Image\n",
    "\n",
    "url = \"https://search.pstatic.net/common?type=f&size=174x174&quality=100&direct=true&src=https%3A%2F%2Fldb-phinf.pstatic.net%2F20150831_102%2F1441001184354BvGxq_JPEG%2F11591498_0.jpg\"\n",
    "\n",
    "\n",
    "with urllib.request.urlopen(url) as url:\n",
    "    s = url.read()\n",
    "\n",
    "with open(\"image.jpg\", \"wb\") as f:\n",
    "    f.write(s)\n",
    "\n",
    "urllib.request.urlretrieve(url,\"image.jpg\")\n",
    "display(Image(\"image.jpg\"))\n",
    "\n",
    "img = Image.open(\"image.jpg\")\n",
    "img.show()\n"
   ]
  },
  {
   "cell_type": "code",
   "execution_count": null,
   "id": "4c389a20",
   "metadata": {},
   "outputs": [],
   "source": []
  }
 ],
 "metadata": {
  "kernelspec": {
   "display_name": "Python 3 (ipykernel)",
   "language": "python",
   "name": "python3"
  },
  "language_info": {
   "codemirror_mode": {
    "name": "ipython",
    "version": 3
   },
   "file_extension": ".py",
   "mimetype": "text/x-python",
   "name": "python",
   "nbconvert_exporter": "python",
   "pygments_lexer": "ipython3",
   "version": "3.9.12"
  }
 },
 "nbformat": 4,
 "nbformat_minor": 5
}
